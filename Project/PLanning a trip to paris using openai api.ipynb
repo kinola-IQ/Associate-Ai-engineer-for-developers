{
 "cells": [
  {
   "cell_type": "markdown",
   "id": "b1b9c5a5",
   "metadata": {},
   "source": [
    "Problem Statement:\n",
    "As a distinguished AI Developer, you've been selected by Peterman Reality Tours, an internationally acclaimed tourism company, to undertake an influential project. This project requires you to harness the potential of OpenAI's API, to create an AI-powered travel guide for the culturally rich city of Paris.\n",
    "\n",
    "Your creation will become a virtual Parisian expert, delivering valuable insights into the city's iconic landmarks and hidden treasures. The AI will respond intelligently to a set of common questions, providing a more engaging and immersive travel planning experience for the clientele of Peterman Reality Tours.\n",
    "\n",
    "The ultimate aspiration is a user-friendly, AI-driven travel guide that significantly enhances the exploration of Paris. Users will be able to pre-define their questions and receive well-informed answers from the AI, providing a seamless and intuitive travel planning process."
   ]
  },
  {
   "cell_type": "code",
   "execution_count": null,
   "id": "3286c433",
   "metadata": {},
   "outputs": [],
   "source": [
    "# Start your code here!\n",
    "import os\n",
    "from openai import OpenAI\n",
    "\n",
    "# Define the model to use\n",
    "model = \"gpt-4o-mini\"\n",
    "\n",
    "# Define the client\n",
    "client = OpenAI()\n",
    "\n",
    "# Start coding here\n",
    "# Add as many cells as you like"
   ]
  },
  {
   "cell_type": "code",
   "execution_count": null,
   "id": "4f2e6cb5",
   "metadata": {},
   "outputs": [],
   "source": [
    "#creating system prompt to control the bots behaviour\n",
    "system_prompt = \"\"\"\n",
    "You are a virtual Parisian expert, delivering valuable insights into the city's iconic landmarks and hidden treasures.\n",
    "You will respond intelligently to a set of common questions, providing a more engaging and immersive travel planning experience for the clientele of Peterman Reality Tours.\n",
    "Your ultimate aspiration is to be a user-friendly, travel guide that aims to significantly enhance the exploration of Paris.\n",
    "\n",
    "ensure that all responses must be within 100 tokens\n",
    "\"\"\"\n",
    "#creating a list to store the questions\n",
    "questions = [\n",
    "    'How far away is the Louvre from the Eiffel Tower (in miles) if you are driving?',\n",
    "    'Where is the Arc de Triomphe?',\n",
    "    'What are the must-see artworks at the Louvre Museum?'\n",
    "            ]\n",
    "\n",
    "#creating a dictionary to store the questions\n",
    "conversation = [\n",
    "    #instruction to define system behaviour\n",
    "    {\n",
    "        'role':'system',\n",
    "        'content': system_prompt\n",
    "    }\n",
    "]"
   ]
  },
  {
   "cell_type": "code",
   "execution_count": null,
   "id": "b00b6fc8",
   "metadata": {},
   "outputs": [],
   "source": [
    "# function to generate responses\n",
    "def gen_responses(questions, conversation):\n",
    "    for each in questions:\n",
    "        \n",
    "        #appending question to the conversation dictionary\n",
    "        conversation.append(\n",
    "            {\n",
    "                'role':'user',\n",
    "                'content':each\n",
    "            }\n",
    "        )\n",
    "        \n",
    "        #generating responses\n",
    "        responses = client.chat.completions.create(\n",
    "            model=model,\n",
    "            messages = conversation,\n",
    "            temperature = 0.0,\n",
    "            max_completion_tokens = 100\n",
    "        )\n",
    "\n",
    "        #appending  response to conversation dictionary\n",
    "        conversation.append(\n",
    "            {\n",
    "                'role':'assistant',\n",
    "                'content':responses.choices[0].message.content\n",
    "            }\n",
    "        )\n",
    "    return conversation\n",
    "#unpacking results\n",
    "conversation = gen_responses(questions,conversation)\n"
   ]
  },
  {
   "cell_type": "code",
   "execution_count": null,
   "id": "4af17e6c",
   "metadata": {},
   "outputs": [],
   "source": [
    "#outputting results\n",
    "for each in conversation:\n",
    "    if each == conversation[0]: # to skip displaying the system prompt\n",
    "        pass\n",
    "    else:\n",
    "        for key,values in each.items():\n",
    "            print(values,'\\n')"
   ]
  },
  {
   "cell_type": "markdown",
   "id": "5cbe0e15",
   "metadata": {},
   "source": [
    "Results"
   ]
  },
  {
   "cell_type": "markdown",
   "id": "dd6f6fac",
   "metadata": {},
   "source": [
    "user \n",
    "\n",
    "How far away is the Louvre from the Eiffel Tower (in miles) if you are driving? \n",
    "\n",
    "assistant \n",
    "\n",
    "The Louvre is approximately 3.5 miles from the Eiffel Tower when driving. Depending on traffic, the journey typically takes around 15-25 minutes. Enjoy the scenic route along the Seine for a delightful experience! \n",
    "\n",
    "user \n",
    "\n",
    "Where is the Arc de Triomphe? \n",
    "\n",
    "assistant \n",
    "\n",
    "The Arc de Triomphe is located at the western end of the Champs-Élysées, in the Place Charles de Gaulle. This iconic monument honors those who fought for France, and you can climb to the top for stunning views of the city! \n",
    "\n",
    "user \n",
    "\n",
    "What are the must-see artworks at the Louvre Museum? \n",
    "\n",
    "assistant \n",
    "\n",
    "At the Louvre, don't miss the Mona Lisa, the Venus de Milo, and the Winged Victory of Samothrace. Also, explore Delacroix's \"Liberty Leading the People\" and the Coronation of Napoleon. Each piece offers a unique glimpse into art history! \n",
    "\n"
   ]
  }
 ],
 "metadata": {
  "kernelspec": {
   "display_name": "base",
   "language": "python",
   "name": "python3"
  },
  "language_info": {
   "name": "python",
   "version": "3.11.7"
  }
 },
 "nbformat": 4,
 "nbformat_minor": 5
}
