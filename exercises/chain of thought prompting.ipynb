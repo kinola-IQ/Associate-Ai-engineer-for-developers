{
 "cells": [
  {
   "cell_type": "code",
   "execution_count": null,
   "id": "c38739b1",
   "metadata": {},
   "outputs": [],
   "source": [
    "from openai import OpenAI\n",
    "\n",
    "client = OpenAI(api_key='api key')\n",
    "\n",
    "prompt = \"What are the key differences between supervised and unsupervised learning?. Let's think step by step.\"\n",
    "\n",
    "def get_response(prompt):\n",
    "    response = client.chat.completions.create(\n",
    "        model=\"gpt-4\",\n",
    "        messages=[\n",
    "            {\n",
    "                \"role\": \"user\",\n",
    "                \"content\": prompt\n",
    "            }\n",
    "        ]\n",
    "    )\n",
    "    return response.choices[0].message.content\n",
    "\n",
    "get_response(prompt)\n"
   ]
  },
  {
   "cell_type": "markdown",
   "id": "4275b822",
   "metadata": {},
   "source": [
    "One-shot chain of thought"
   ]
  },
  {
   "cell_type": "code",
   "execution_count": null,
   "id": "f2d225ef",
   "metadata": {},
   "outputs": [],
   "source": [
    "example =\"\"\"Q: extract the odd numbers from the following set and add them together: {1, 2, 3, 4, 5},\n",
    "            A: The odd numbers are 1, 3, and 5. Adding them together gives 1 + 3 + 5 = 9.\n",
    "\"\"\"\n",
    "\n",
    "question = \"\"\"\n",
    "Q: {3,0,9,6}\n",
    "A:\n",
    "\"\"\"\n",
    "prompt = example + question\n",
    "\n",
    "response = get_response(prompt)\n",
    "\n",
    "print(response)"
   ]
  },
  {
   "cell_type": "markdown",
   "id": "7155d95b",
   "metadata": {},
   "source": [
    "Self regulation"
   ]
  },
  {
   "cell_type": "code",
   "execution_count": null,
   "id": "49937aaa",
   "metadata": {},
   "outputs": [],
   "source": [
    "self_regulation_instruction = \"\"\"\n",
    "imagine that three experts are given task and the results are decided by majority votes. solve the preceeding problem:\n",
    "\"\"\"\n",
    "question  = \" determine your friend's father's age in 10 years, given that he is currently twice your friend's age, and your friend is 20. let's think step by step\"\n",
    "\n",
    "prompt = self_regulation_instruction + question\n",
    "\n",
    "response = get_response(prompt)\n",
    "print(response)"
   ]
  }
 ],
 "metadata": {
  "language_info": {
   "name": "python"
  }
 },
 "nbformat": 4,
 "nbformat_minor": 5
}
