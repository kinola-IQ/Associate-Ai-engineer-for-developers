{
 "cells": [
  {
   "cell_type": "code",
   "execution_count": null,
   "id": "964962cd",
   "metadata": {},
   "outputs": [],
   "source": [
    "#library\n",
    "from openai import OpenAI\n",
    "\n",
    "#api key\n",
    "client = OpenAI(api_key=\"your_api_key\")\n",
    "\n",
    "#defining model behaviour\n",
    "system_message = '''\n",
    "         you are a helpful customer support assistant whose goal is to ensure that customer satisfaction is met. \n",
    "         You should provide accurate information and assist users with their inquiries to the best of your ability.\n",
    "\n",
    "         if you are asked for any of the following:\n",
    "            1. personal information, please respond with \"I'm sorry, but I can't assist with that.\"\n",
    "            2. information outside the company, please respond with \"I'm sorry, but I can't assist with that.\"\n",
    "            3. information not contained within the document, please respond with \"I'm sorry, but I can't assist with that.\"\n",
    "         '''\n",
    "\n",
    "#accepting user prompt\n",
    "prompt = input(\"Please enter your question or issue: \")\n",
    "\n",
    "#generating responses\n",
    "response = client.chat.completions.create(\n",
    "    model = 'gpt-4o-mini',\n",
    "    messages = [\n",
    "        {'role':'system', #defines the behaviour of the model\n",
    "         'content':system_message},\n",
    "         {'role':'user', #gives instructions to the model\n",
    "          'content':prompt}\n",
    "    ]\n",
    ")\n",
    "\n",
    "#outputing responses\n",
    "print(response.choices[0].message.content)\n"
   ]
  },
  {
   "cell_type": "markdown",
   "id": "95dcdd28",
   "metadata": {},
   "source": [
    "system messages(role) can be used to add guardrails which act as restrictions on model outputs\n",
    "thereby prevent misuse and the model from giving unintended  outputs"
   ]
  }
 ],
 "metadata": {
  "language_info": {
   "name": "python"
  }
 },
 "nbformat": 4,
 "nbformat_minor": 5
}
