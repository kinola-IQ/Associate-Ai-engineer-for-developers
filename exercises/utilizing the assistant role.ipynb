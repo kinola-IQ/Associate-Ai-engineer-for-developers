{
 "cells": [
  {
   "cell_type": "code",
   "execution_count": null,
   "id": "263b48ab",
   "metadata": {},
   "outputs": [],
   "source": [
    "from openai import OpenAI\n",
    "#api key\n",
    "client = OpenAI(api_key=\"your_api_key\")\n",
    "\n",
    "#use prompt\n",
    "prompt = input('what is your request?: ')\n",
    "\n",
    "#generating responses\n",
    "response = client.chat.completions.create(\n",
    "    model = 'gpt-40-mini',\n",
    "    messages = [\n",
    "        {\n",
    "            'role':'system',\n",
    "            'content':'''\n",
    "            you are a python programming tutor who speaks informatively.\n",
    "            if you are asked any question outside the scope of python programming,\n",
    "            please respond politely with \"i'm sorry but i cannot answer that.\"\n",
    "            '''\n",
    "        },\n",
    "        {\n",
    "            'role':'user',\n",
    "            'content':'explain the concept of variables in python'\n",
    "        },\n",
    "        {\n",
    "            'role':'assistant',\n",
    "            'content':'''\n",
    "            In Python, a variable is a name that refers to a value.\n",
    "            It allows you to store data and manipulate it later.\n",
    "            You create a variable by assigning a value to it using the equals sign (`=`).\n",
    "            For example, `x = 5` creates a variable `x` that holds the integer value 5.\n",
    "            Variables can hold different types of data, such as numbers, strings, lists, and more.\n",
    "            You can change the value of a variable at any time by reassigning it.'''\n",
    "        },\n",
    "        {\n",
    "            'role':'user',\n",
    "            'content':prompt\n",
    "        }\n",
    "    ] \n",
    ")\n",
    "#outputting responses\n",
    "print(response.choices[0].message.content)"
   ]
  },
  {
   "cell_type": "markdown",
   "id": "af2f876c",
   "metadata": {},
   "source": [
    "assitant roles are used to provide examples of response to user queries, they are sent along with all other reuests and prompt to the API inorder to make responses more tailored."
   ]
  }
 ],
 "metadata": {
  "language_info": {
   "name": "python"
  }
 },
 "nbformat": 4,
 "nbformat_minor": 5
}
