{
 "cells": [
  {
   "cell_type": "code",
   "execution_count": null,
   "id": "260bb512",
   "metadata": {},
   "outputs": [],
   "source": [
    "from openai import OpenAI\n",
    "\n",
    "client = OpenAI(api_key=\"your api key\")\n",
    "\n",
    "sys_msg = '''\n",
    "you are a python programming tutor who speaks concisely and clearly.\n",
    "when asked for help with code, you do the following:\n",
    "step 1: you provide a brief explanation followed by the code itself.\n",
    "step 2: following the code, you ask if the user needs further assistance.\n",
    "step 3: if the user asks for more help, you provide additional guidance or clarification.\n",
    "step 4: you ensure that the user fully understands the solution before ending the conversation.\n",
    "'''\n",
    "\n",
    "response = client.chat.completions.create(\n",
    "    model=\"your-model\",\n",
    "    messages=[\n",
    "\n",
    "        {'role':'system','content':sys_msg},\n",
    "        {\"role\": \"user\", \"content\": \"I need help with my Python code.\"}\n",
    "    ]\n",
    ")\n",
    "\n",
    "response_text = response.choices[0].message.content"
   ]
  }
 ],
 "metadata": {
  "language_info": {
   "name": "python"
  }
 },
 "nbformat": 4,
 "nbformat_minor": 5
}
