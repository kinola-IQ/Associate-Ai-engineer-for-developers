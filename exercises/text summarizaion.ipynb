{
 "cells": [
  {
   "cell_type": "code",
   "execution_count": null,
   "id": "f7196c4b",
   "metadata": {},
   "outputs": [],
   "source": [
    "from openai import OpenAI\n",
    "\n",
    "#API key\n",
    "client = OpenAI(api_key='your_api_key_here')\n",
    "\n",
    "#text to be sumarized\n",
    "text = \"abigail is a senior content strategist at datacamp, her favourite pass time is drinking coffee, she works remotely from her home in new york. she enjoys hiking on weekends.\"\n",
    "\n",
    "#instructions\n",
    "prompt = f\"\"\"\n",
    "Sumarize the inserted text into 3 concise points:{text}\n",
    "\"\"\"\n",
    "\n",
    "#response from model\n",
    "response = client.chat.completions.create(\n",
    "    model = 'gpt-4o-mini',\n",
    "    messages = [\n",
    "        {'role': 'user', 'content':prompt}\n",
    "    ]\n",
    "    max_completion_tokens =20 #used to control lenght of responses, higher token could result in higher cost\n",
    ")\n",
    "\n",
    "#generated text\n",
    "print(response.choices[0].message.content)"
   ]
  }
 ],
 "metadata": {
  "language_info": {
   "name": "python"
  }
 },
 "nbformat": 4,
 "nbformat_minor": 5
}
