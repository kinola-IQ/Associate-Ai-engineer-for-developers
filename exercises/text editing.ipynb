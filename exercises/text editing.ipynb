{
 "cells": [
  {
   "cell_type": "code",
   "execution_count": null,
   "id": "55d1258b",
   "metadata": {},
   "outputs": [],
   "source": [
    "from openai import OpenAI\n",
    "\n",
    "client = OpenAI(api_key = 'your_api_key_here')\n",
    "\n",
    "# prompt\n",
    "prompt = \"\"\"\n",
    "\n",
    "update name to john, pronouns to he/him, job to software engineer in the below text:\n",
    "\n",
    "abigail is a senior content strategist at datacamp, her favourite pass time is drinking coffee,\n",
    "she works remotely from her home in new york. she enjoys hiking on weekends.\n",
    "\"\"\"\n",
    "\n",
    "response = client.chat.completions.create(\n",
    "    model = \"gpt-4o-mini\",\n",
    "    messages = [\n",
    "        {'role':'user','content':prompt}\n",
    "    ]\n",
    ")\n",
    "\n",
    "# generated responses\n",
    "print(response.choices[0].message.content)"
   ]
  }
 ],
 "metadata": {
  "language_info": {
   "name": "python"
  }
 },
 "nbformat": 4,
 "nbformat_minor": 5
}
