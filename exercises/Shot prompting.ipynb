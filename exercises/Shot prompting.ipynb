{
 "cells": [
  {
   "cell_type": "markdown",
   "id": "313bfa7d",
   "metadata": {},
   "source": [
    "API KEY and Response"
   ]
  },
  {
   "cell_type": "code",
   "execution_count": null,
   "id": "f7ad45ed",
   "metadata": {},
   "outputs": [],
   "source": [
    "from Openai import OpenAI\n",
    "\n",
    "client = OpenAI(api_key ='api_key')\n",
    "def response(prompt,client):\n",
    "    response = client.chat.completions.create(\n",
    "        model = 'gpt-4o-mini',\n",
    "        messages = [\n",
    "            {\n",
    "                'role':'user',\n",
    "                'content':prompt\n",
    "            }\n",
    "        ]\n",
    "    )\n",
    "\n",
    "    return response.choices[0].message.content"
   ]
  },
  {
   "cell_type": "markdown",
   "id": "a866117a",
   "metadata": {},
   "source": [
    "Zero-shot Prompting"
   ]
  },
  {
   "cell_type": "code",
   "execution_count": null,
   "id": "cc625e37",
   "metadata": {},
   "outputs": [],
   "source": [
    "from openai import OpenAI\n",
    "prompt = \"\"\"\n",
    "classify the below text into sentiments raging from 1 to 5, with 1 being very negative and 5 being very positive:\n",
    "\n",
    "Text 1: 'I love this product! It works great and has changed my life for the better.'\n",
    "Text 2: 'This is the worst purchase I have ever made. I regret buying it.'\n",
    "\"\"\"\n",
    "print(response(prompt, client))"
   ]
  },
  {
   "cell_type": "markdown",
   "id": "dd997d2d",
   "metadata": {},
   "source": [
    "One-shot prompting"
   ]
  },
  {
   "cell_type": "code",
   "execution_count": null,
   "id": "30ff6866",
   "metadata": {},
   "outputs": [],
   "source": [
    "from openai import OpenAI\n",
    "prompt = \"\"\"\n",
    "classify the below text into sentiments raging from 1 to 5, with 1 being very negative and 5 being very positive:\n",
    "\n",
    "Text 1: 'I love this product! It works great and has changed my life for the better. -> 5'\n",
    "Text 2: 'This is the worst purchase I have ever made. I regret buying it.'\n",
    "\"\"\"\n",
    "print(response(prompt, client))"
   ]
  },
  {
   "cell_type": "markdown",
   "id": "7a723e29",
   "metadata": {},
   "source": [
    "Few-shot prompting"
   ]
  },
  {
   "cell_type": "code",
   "execution_count": null,
   "id": "30aa93b6",
   "metadata": {},
   "outputs": [],
   "source": [
    "from openai import OpenAI\n",
    "prompt = \"\"\"\n",
    "classify the below text into sentiments raging from 1 to 5, with 1 being very negative and 5 being very positive:\n",
    "\n",
    "Text 1: 'I love this product! It works great and has changed my life for the better. -> 5'\n",
    "Text 2: 'This is the worst purchase I have ever made. I regret buying it. -> 1'\n",
    "\"\"\"\n",
    "print(response(prompt, client))"
   ]
  },
  {
   "cell_type": "markdown",
   "id": "089a1781",
   "metadata": {},
   "source": [
    "General Categorization"
   ]
  },
  {
   "cell_type": "code",
   "execution_count": null,
   "id": "9d695b7a",
   "metadata": {},
   "outputs": [],
   "source": [
    "prompt = \"\"\"\n",
    "Classify the below animals to either land,sea or both:\n",
    "\n",
    "Animal 1: 'Elephant' -> land\n",
    "Animal 2: 'Shark' -> sea\n",
    "Animal 3: 'Frog' -> both\n",
    "\"\"\"\n",
    "print(response(prompt, client))"
   ]
  }
 ],
 "metadata": {
  "kernelspec": {
   "display_name": "base",
   "language": "python",
   "name": "python3"
  },
  "language_info": {
   "codemirror_mode": {
    "name": "ipython",
    "version": 3
   },
   "file_extension": ".py",
   "mimetype": "text/x-python",
   "name": "python",
   "nbconvert_exporter": "python",
   "pygments_lexer": "ipython3",
   "version": "3.11.7"
  }
 },
 "nbformat": 4,
 "nbformat_minor": 5
}
