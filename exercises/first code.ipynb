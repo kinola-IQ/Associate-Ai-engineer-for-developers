{
 "cells": [
  {
   "cell_type": "code",
   "execution_count": null,
   "id": "cd66ec77",
   "metadata": {},
   "outputs": [],
   "source": [
    "from openai import OpenAI\n",
    "\n",
    "client = OpenAI(api_key=\"your_api_key_here\")\n",
    "\n",
    "#passing response into the model\n",
    "response = client.chat.completions.create(\n",
    "    model = \"gpt-4o-mini\",\n",
    "    messages= \n",
    "    [\n",
    "        {'role':'user','content':'hello!'}\n",
    "        ]\n",
    ")\n",
    "\n",
    "#generated response\n",
    "print(response.choices[0].message.content)"
   ]
  },
  {
   "cell_type": "code",
   "execution_count": null,
   "id": "852b8073",
   "metadata": {
    "vscode": {
     "languageId": "powershell"
    }
   },
   "outputs": [],
   "source": [
    "\n"
   ]
  }
 ],
 "metadata": {
  "language_info": {
   "name": "python"
  }
 },
 "nbformat": 4,
 "nbformat_minor": 5
}
